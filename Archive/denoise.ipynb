{
 "cells": [
  {
   "cell_type": "code",
   "execution_count": 89,
   "metadata": {},
   "outputs": [],
   "source": [
    "import numpy as np\n",
    "import pywt\n",
    "import scipy\n",
    "data = np.load(\"denoise.npy\")"
   ]
  },
  {
   "cell_type": "code",
   "execution_count": 90,
   "metadata": {},
   "outputs": [],
   "source": [
    "levels = max(pywt.dwt_max_level(data.size, 2) - 3, 1)"
   ]
  },
  {
   "cell_type": "code",
   "execution_count": 91,
   "metadata": {},
   "outputs": [
    {
     "data": {
      "text/plain": [
       "array([[1.75599837e+08, 1.75599837e+08, 1.75599837e+08, ...,\n",
       "        1.75599837e+08, 1.75599837e+08, 1.75599837e+08],\n",
       "       [2.07686683e+08, 2.07686683e+08, 2.07686683e+08, ...,\n",
       "        2.07686683e+08, 2.07686683e+08, 2.07686683e+08],\n",
       "       [2.13669606e+08, 2.13669606e+08, 2.13669606e+08, ...,\n",
       "        2.13669606e+08, 2.13669606e+08, 2.13669606e+08],\n",
       "       ...,\n",
       "       [1.35313768e+09, 1.35313768e+09, 1.35313768e+09, ...,\n",
       "        1.35313768e+09, 1.35313768e+09, 1.35313768e+09],\n",
       "       [2.13710380e+09, 2.13710380e+09, 2.13710380e+09, ...,\n",
       "        2.13710380e+09, 2.13710380e+09, 2.13710380e+09],\n",
       "       [7.82006576e+08, 7.82006576e+08, 7.82006576e+08, ...,\n",
       "        7.82006576e+08, 7.82006576e+08, 7.82006576e+08]])"
      ]
     },
     "execution_count": 91,
     "metadata": {},
     "output_type": "execute_result"
    }
   ],
   "source": [
    "pywt.wavedecn(data, wavelet=\"db38\", level=levels)[0]"
   ]
  },
  {
   "cell_type": "code",
   "execution_count": 92,
   "metadata": {},
   "outputs": [
    {
     "data": {
      "text/plain": [
       "array([[ 1764958.3248315 ],\n",
       "       [ 1071961.15235674],\n",
       "       [ -494284.61061215],\n",
       "       ...,\n",
       "       [10901401.6059427 ],\n",
       "       [16118796.06199545],\n",
       "       [ 6684806.49000164]])"
      ]
     },
     "execution_count": 92,
     "metadata": {},
     "output_type": "execute_result"
    }
   ],
   "source": [
    "pywt.dwt(data, pywt.Wavelet(\"db1\"))[0]"
   ]
  },
  {
   "cell_type": "code",
   "execution_count": 93,
   "metadata": {},
   "outputs": [],
   "source": [
    "data += np.array(np.random.normal(0, 100000, data.shape), dtype=np.int32)"
   ]
  },
  {
   "cell_type": "code",
   "execution_count": 94,
   "metadata": {},
   "outputs": [
    {
     "data": {
      "text/plain": [
       "2.7719856007024646e-05"
      ]
     },
     "execution_count": 94,
     "metadata": {},
     "output_type": "execute_result"
    }
   ],
   "source": [
    "waveletType = \"db38\"\n",
    "original_extent = tuple(slice(s) for s in data.shape)\n",
    "coeffs = pywt.wavedecn(data, wavelet=waveletType, level=levels)\n",
    "dcoeffs = coeffs[1:]\n",
    "detail_coeffs = dcoeffs[-1]['dd']\n",
    "detail_coeffs = detail_coeffs[np.nonzero(detail_coeffs)]\n",
    "denom = scipy.stats.norm.ppf(0.75)\n",
    "sigma = np.median(np.abs(detail_coeffs)) / denom\n",
    "threshold = sigma * np.sqrt(2 * np.log(data.size))\n",
    "denoised_detail = [{\n",
    "    key: pywt.threshold(level[key], value=threshold, mode=\"soft\") for key in level\n",
    "} for level in dcoeffs]\n",
    "denoised_coeffs = [coeffs[0]] + denoised_detail\n",
    "np.sum(np.abs(pywt.waverecn(denoised_coeffs, waveletType)[original_extent] - data))"
   ]
  }
 ],
 "metadata": {
  "kernelspec": {
   "display_name": "Python 3",
   "language": "python",
   "name": "python3"
  },
  "language_info": {
   "codemirror_mode": {
    "name": "ipython",
    "version": 3
   },
   "file_extension": ".py",
   "mimetype": "text/x-python",
   "name": "python",
   "nbconvert_exporter": "python",
   "pygments_lexer": "ipython3",
   "version": "3.11.4"
  },
  "orig_nbformat": 4
 },
 "nbformat": 4,
 "nbformat_minor": 2
}
